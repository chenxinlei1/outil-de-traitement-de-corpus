{
 "cells": [
  {
   "cell_type": "code",
   "execution_count": 97,
   "metadata": {},
   "outputs": [
    {
     "name": "stdout",
     "output_type": "stream",
     "text": [
      "Correlation between Height and Width: -0.8570148287860286, p-value: 0.0\n"
     ]
    },
    {
     "data": {
      "image/png": "[encoded data removed]",
      "text/plain": [
       "<Figure size 640x480 with 2 Axes>"
      ]
     },
     "metadata": {},
     "output_type": "display_data"
    }
   ],
   "source": [
    "import numpy as np\n",
    "import pandas as pd\n",
    "import os\n",
    "import cv2\n",
    "import seaborn as sns\n",
    "import matplotlib.pyplot as plt\n",
    "from scipy.stats import pearsonr\n",
    "\n",
    "# fonction pour extraire les caractéristiques des images\n",
    "def get_image_features(image_dir):\n",
    "    heights = []\n",
    "    widths = []\n",
    "    file_sizes = []\n",
    "\n",
    "    for root, _, files in os.walk(image_dir):\n",
    "        for file in files:\n",
    "            if file.endswith(('.png', '.jpg', '.jpeg')):\n",
    "                file_path = os.path.join(root, file)\n",
    "                image = cv2.imread(file_path)\n",
    "                if image is None:\n",
    "                    continue\n",
    "                h, w, _ = image.shape\n",
    "                heights.append(h)\n",
    "                widths.append(w)\n",
    "                file_sizes.append(os.path.getsize(file_path))\n",
    "\n",
    "    return heights, widths, file_sizes\n",
    "\n",
    "image_dir = './data/raw'\n",
    "heights, widths, file_sizes = get_image_features(image_dir)\n",
    "\n",
    "df = pd.DataFrame({\n",
    "    'Height': heights,\n",
    "    'Width': widths,\n",
    "    'FileSize': file_sizes\n",
    "})\n",
    "\n",
    "# calcul le coefficient de corrélation de Pearson\n",
    "correlation, p_value = pearsonr(df['Height'], df['Width'])\n",
    "print(f\"Correlation between Height and Width: {correlation}, p-value: {p_value}\")\n",
    "\n",
    "# utilisation de seaborn pour afficher la matrice de corrélation\n",
    "sns.heatmap(df.corr(), annot=True, cmap='coolwarm')\n",
    "plt.show()\n"
   ]
  },
  {
   "cell_type": "code",
   "execution_count": 86,
   "metadata": {},
   "outputs": [
    {
     "name": "stdout",
     "output_type": "stream",
     "text": [
      "Nombre de données d'origine: 1756, Nombre de données après le nettoyage: 1701\n"
     ]
    }
   ],
   "source": [
    "# Eliminer les données abérrantes\n",
    "from scipy import stats\n",
    "\n",
    "z_scores = np.abs(stats.zscore(df))\n",
    "filtered_entries = (z_scores < 3).all(axis=1)\n",
    "df_clean = df[filtered_entries]\n",
    "\n",
    "print(f\"Nombre de données d'origine: {df.shape[0]}, Nombre de données après le nettoyage: {df_clean.shape[0]}\")\n"
   ]
  },
  {
   "cell_type": "code",
   "execution_count": 87,
   "metadata": {},
   "outputs": [
    {
     "name": "stdout",
     "output_type": "stream",
     "text": [
      "Found 1756 images belonging to 3 classes.\n",
      "Batch shape: (55, 256, 256, 3)\n",
      "Number of images generated: 55\n"
     ]
    }
   ],
   "source": [
    "# Augmenter les données\n",
    "from keras.preprocessing.image import ImageDataGenerator\n",
    "\n",
    "datagen = ImageDataGenerator(\n",
    "    rotation_range=20,\n",
    "    width_shift_range=0.2,\n",
    "    height_shift_range=0.2,\n",
    "    shear_range=0.2,\n",
    "    zoom_range=0.2,\n",
    "    horizontal_flip=True,\n",
    "    fill_mode='nearest'\n",
    ")\n",
    "\n",
    "# Générer des images augmentées\n",
    "for batch in datagen.flow_from_directory(image_dir, batch_size=55, save_to_dir='data', save_prefix='aug', save_format='jpg'):\n",
    "    print('Batch shape:', batch[0].shape)  \n",
    "    print(f\"Number of images generated: {len(batch[0])}\")\n",
    "    break\n"
   ]
  },
  {
   "cell_type": "code",
   "execution_count": 88,
   "metadata": {},
   "outputs": [
    {
     "name": "stdout",
     "output_type": "stream",
     "text": [
      "Nombre d'images de train: 1404, Nombre d'images de test: 352\n"
     ]
    }
   ],
   "source": [
    "# Splitter le corpus en test et train\n",
    "from sklearn.model_selection import train_test_split\n",
    "\n",
    "image_paths = [os.path.join(root, file) for root, _, files in os.walk(image_dir) for file in files if file.endswith(('.png', '.jpg', '.jpeg'))]\n",
    "train_paths, test_paths = train_test_split(image_paths, test_size=0.2, random_state=42)\n",
    "\n",
    "print(f\"Nombre d'images de train: {len(train_paths)}, Nombre d'images de test: {len(test_paths)}\")\n"
   ]
  },
  {
   "cell_type": "code",
   "execution_count": 89,
   "metadata": {},
   "outputs": [],
   "source": [
    "import pandas as pd\n",
    "import tensorflow as tf\n",
    "from tensorflow.keras.preprocessing.image import ImageDataGenerator\n",
    "from tensorflow.keras.utils import to_categorical\n",
    "from tensorflow.keras.models import Sequential\n",
    "from tensorflow.keras.layers import Conv2D, MaxPooling2D, Flatten, Dense, Dropout\n",
    "from sklearn.model_selection import train_test_split\n",
    "from sklearn.metrics import classification_report, confusion_matrix\n",
    "import matplotlib.pyplot as plt\n",
    "import seaborn as sns\n",
    "\n",
    "data_dir = './data/raw'  \n",
    "csv_file = './data/dog_breeds_images.csv'  \n",
    "df = pd.read_csv(csv_file)\n",
    "\n",
    "def load_images(dataframe):\n",
    "    images = []\n",
    "    labels = []\n",
    "    for index, row in dataframe.iterrows():\n",
    "        img_path = row['image']  \n",
    "        if not os.path.exists(img_path):\n",
    "            print(f\"File not found: {img_path}\")\n",
    "            continue\n",
    "        img = tf.keras.preprocessing.image.load_img(img_path, target_size=(28, 28), color_mode='grayscale')\n",
    "        img = tf.keras.preprocessing.image.img_to_array(img) / 255.0\n",
    "        images.append(img)\n",
    "        labels.append(row['label'])\n",
    "    return np.array(images), np.array(labels)\n",
    "\n",
    "X, y = load_images(df)\n",
    "\n"
   ]
  },
  {
   "cell_type": "code",
   "execution_count": 90,
   "metadata": {},
   "outputs": [
    {
     "name": "stdout",
     "output_type": "stream",
     "text": [
      "Epoch 1/10\n",
      "33/33 [==============================] - 1s 21ms/step - loss: 1.0195 - accuracy: 0.4444 - val_loss: 0.8192 - val_accuracy: 0.6068\n",
      "Epoch 2/10\n",
      "33/33 [==============================] - 1s 18ms/step - loss: 0.7722 - accuracy: 0.6078 - val_loss: 0.7275 - val_accuracy: 0.6524\n",
      "Epoch 3/10\n",
      "33/33 [==============================] - 1s 17ms/step - loss: 0.6886 - accuracy: 0.6686 - val_loss: 0.6733 - val_accuracy: 0.6866\n",
      "Epoch 4/10\n",
      "33/33 [==============================] - 1s 17ms/step - loss: 0.6318 - accuracy: 0.7142 - val_loss: 0.6328 - val_accuracy: 0.7094\n",
      "Epoch 5/10\n",
      "33/33 [==============================] - 1s 16ms/step - loss: 0.5494 - accuracy: 0.7778 - val_loss: 0.5952 - val_accuracy: 0.7094\n",
      "Epoch 6/10\n",
      "33/33 [==============================] - 1s 16ms/step - loss: 0.4823 - accuracy: 0.7844 - val_loss: 0.6204 - val_accuracy: 0.7066\n",
      "Epoch 7/10\n",
      "33/33 [==============================] - 1s 16ms/step - loss: 0.4149 - accuracy: 0.8357 - val_loss: 0.5940 - val_accuracy: 0.7265\n",
      "Epoch 8/10\n",
      "33/33 [==============================] - 1s 15ms/step - loss: 0.3537 - accuracy: 0.8727 - val_loss: 0.4878 - val_accuracy: 0.7892\n",
      "Epoch 9/10\n",
      "33/33 [==============================] - 1s 16ms/step - loss: 0.2960 - accuracy: 0.8917 - val_loss: 0.5230 - val_accuracy: 0.7835\n",
      "Epoch 10/10\n",
      "33/33 [==============================] - 1s 16ms/step - loss: 0.2394 - accuracy: 0.9174 - val_loss: 0.4906 - val_accuracy: 0.8063\n"
     ]
    }
   ],
   "source": [
    "from sklearn.model_selection import train_test_split\n",
    "from tensorflow.keras.utils import to_categorical\n",
    "from tensorflow.keras.models import Sequential\n",
    "from tensorflow.keras.layers import Conv2D, MaxPooling2D, Dropout, Flatten, Dense\n",
    "\n",
    "\n",
    "\n",
    "y = to_categorical(y)\n",
    "\n",
    "X_train_val, X_test, y_train_val, y_test = train_test_split(X, y, test_size=0.2, random_state=42)\n",
    "\n",
    "X_train, X_val, y_train, y_val = train_test_split(X_train_val, y_train_val, test_size=0.25, random_state=42) \n",
    "\n",
    "model = Sequential([\n",
    "    Conv2D(32, kernel_size=(3, 3), activation='relu', input_shape=(28, 28, 1)),\n",
    "    Conv2D(64, (3, 3), activation='relu'),\n",
    "    MaxPooling2D(pool_size=(2, 2)),\n",
    "    Dropout(0.25),\n",
    "    Flatten(),\n",
    "    Dense(128, activation='relu'),\n",
    "    Dropout(0.5),\n",
    "    Dense(y_train.shape[1], activation='softmax')\n",
    "])\n",
    "\n",
    "model.compile(loss='categorical_crossentropy', optimizer='Adam', metrics=['accuracy'])\n",
    "\n",
    "history = model.fit(X_train, y_train, epochs=10, validation_data=(X_val, y_val))\n"
   ]
  },
  {
   "cell_type": "code",
   "execution_count": 91,
   "metadata": {},
   "outputs": [
    {
     "name": "stdout",
     "output_type": "stream",
     "text": [
      "11/11 [==============================] - 0s 3ms/step\n",
      "Classification Report:\n",
      "               precision    recall  f1-score   support\n",
      "\n",
      "           0       0.80      0.75      0.77       131\n",
      "           1       0.78      0.79      0.78       135\n",
      "           2       0.87      0.92      0.89        85\n",
      "\n",
      "    accuracy                           0.81       351\n",
      "   macro avg       0.81      0.82      0.82       351\n",
      "weighted avg       0.81      0.81      0.81       351\n",
      "\n"
     ]
    }
   ],
   "source": [
    "# evaluation du modèle\n",
    "predictions = model.predict(X_val)\n",
    "y_pred = np.argmax(predictions, axis=1)\n",
    "y_true = np.argmax(y_val, axis=1)\n",
    "\n",
    "# classification report et confusion matrix\n",
    "report = classification_report(y_true, y_pred)\n",
    "matrix = confusion_matrix(y_true, y_pred)\n",
    "\n",
    "print(\"Classification Report:\\n\", report)\n"
   ]
  },
  {
   "cell_type": "code",
   "execution_count": 92,
   "metadata": {},
   "outputs": [
    {
     "data": {
      "image/png": "[encoded data removed]",
      "text/plain": [
       "<Figure size 1000x800 with 2 Axes>"
      ]
     },
     "metadata": {},
     "output_type": "display_data"
    }
   ],
   "source": [
    "# affichage de la matrice de confusion\n",
    "def plot_confusion_matrix(cm, class_labels):\n",
    "    plt.figure(figsize=(10, 8))\n",
    "    sns.heatmap(cm, annot=True, fmt=\"d\", cmap=\"Blues\", xticklabels=class_labels, yticklabels=class_labels)\n",
    "    plt.xlabel('Predicted')\n",
    "    plt.ylabel('True')\n",
    "    plt.title('Confusion Matrix')\n",
    "    plt.show()\n",
    "\n",
    "class_labels = list(df['label'].unique())\n",
    "plot_confusion_matrix(matrix, class_labels)"
   ]
  },
  {
   "cell_type": "code",
   "execution_count": 95,
   "metadata": {},
   "outputs": [
    {
     "name": "stdout",
     "output_type": "stream",
     "text": [
      "Model Size: 4.60 MB\n",
      "1/1 [==============================] - 0s 19ms/step\n",
      "1/1 [==============================] - 0s 13ms/step\n",
      "1/1 [==============================] - 0s 13ms/step\n",
      "1/1 [==============================] - 0s 11ms/step\n",
      "1/1 [==============================] - 0s 11ms/step\n",
      "1/1 [==============================] - 0s 11ms/step\n",
      "1/1 [==============================] - 0s 11ms/step\n",
      "1/1 [==============================] - 0s 11ms/step\n",
      "1/1 [==============================] - 0s 12ms/step\n",
      "1/1 [==============================] - 0s 12ms/step\n",
      "1/1 [==============================] - 0s 12ms/step\n",
      "1/1 [==============================] - 0s 12ms/step\n",
      "1/1 [==============================] - 0s 11ms/step\n",
      "1/1 [==============================] - 0s 12ms/step\n",
      "1/1 [==============================] - 0s 11ms/step\n",
      "1/1 [==============================] - 0s 11ms/step\n",
      "1/1 [==============================] - 0s 12ms/step\n",
      "1/1 [==============================] - 0s 13ms/step\n",
      "1/1 [==============================] - 0s 13ms/step\n",
      "1/1 [==============================] - 0s 13ms/step\n",
      "1/1 [==============================] - 0s 13ms/step\n",
      "1/1 [==============================] - 0s 14ms/step\n",
      "1/1 [==============================] - 0s 13ms/step\n",
      "1/1 [==============================] - 0s 14ms/step\n",
      "1/1 [==============================] - 0s 17ms/step\n",
      "1/1 [==============================] - 0s 14ms/step\n",
      "1/1 [==============================] - 0s 13ms/step\n",
      "1/1 [==============================] - 0s 14ms/step\n",
      "1/1 [==============================] - 0s 15ms/step\n",
      "1/1 [==============================] - 0s 14ms/step\n",
      "1/1 [==============================] - 0s 13ms/step\n",
      "1/1 [==============================] - 0s 13ms/step\n",
      "1/1 [==============================] - 0s 12ms/step\n",
      "1/1 [==============================] - 0s 13ms/step\n",
      "1/1 [==============================] - 0s 11ms/step\n",
      "1/1 [==============================] - 0s 13ms/step\n",
      "1/1 [==============================] - 0s 13ms/step\n",
      "1/1 [==============================] - 0s 11ms/step\n",
      "1/1 [==============================] - 0s 12ms/step\n",
      "1/1 [==============================] - 0s 12ms/step\n",
      "1/1 [==============================] - 0s 13ms/step\n",
      "1/1 [==============================] - 0s 14ms/step\n",
      "1/1 [==============================] - 0s 13ms/step\n",
      "1/1 [==============================] - 0s 12ms/step\n",
      "1/1 [==============================] - 0s 13ms/step\n",
      "1/1 [==============================] - 0s 11ms/step\n",
      "1/1 [==============================] - 0s 13ms/step\n",
      "1/1 [==============================] - 0s 13ms/step\n",
      "1/1 [==============================] - 0s 27ms/step\n",
      "1/1 [==============================] - 0s 13ms/step\n",
      "1/1 [==============================] - 0s 12ms/step\n",
      "1/1 [==============================] - 0s 10ms/step\n",
      "1/1 [==============================] - 0s 11ms/step\n",
      "1/1 [==============================] - 0s 11ms/step\n",
      "1/1 [==============================] - 0s 12ms/step\n",
      "1/1 [==============================] - 0s 11ms/step\n",
      "1/1 [==============================] - 0s 12ms/step\n",
      "1/1 [==============================] - 0s 13ms/step\n",
      "1/1 [==============================] - 0s 14ms/step\n",
      "1/1 [==============================] - 0s 12ms/step\n",
      "1/1 [==============================] - 0s 12ms/step\n",
      "1/1 [==============================] - 0s 11ms/step\n",
      "1/1 [==============================] - 0s 11ms/step\n",
      "1/1 [==============================] - 0s 12ms/step\n",
      "1/1 [==============================] - 0s 12ms/step\n",
      "1/1 [==============================] - 0s 12ms/step\n",
      "1/1 [==============================] - 0s 12ms/step\n",
      "1/1 [==============================] - 0s 12ms/step\n",
      "1/1 [==============================] - 0s 11ms/step\n",
      "1/1 [==============================] - 0s 13ms/step\n",
      "1/1 [==============================] - 0s 14ms/step\n",
      "1/1 [==============================] - 0s 14ms/step\n",
      "1/1 [==============================] - 0s 14ms/step\n",
      "1/1 [==============================] - 0s 14ms/step\n",
      "1/1 [==============================] - 0s 12ms/step\n",
      "1/1 [==============================] - 0s 12ms/step\n",
      "1/1 [==============================] - 0s 12ms/step\n",
      "1/1 [==============================] - 0s 13ms/step\n",
      "1/1 [==============================] - 0s 11ms/step\n",
      "1/1 [==============================] - 0s 12ms/step\n",
      "1/1 [==============================] - 0s 12ms/step\n",
      "1/1 [==============================] - 0s 13ms/step\n",
      "1/1 [==============================] - 0s 12ms/step\n",
      "1/1 [==============================] - 0s 12ms/step\n",
      "1/1 [==============================] - 0s 12ms/step\n",
      "1/1 [==============================] - 0s 13ms/step\n",
      "1/1 [==============================] - 0s 12ms/step\n",
      "1/1 [==============================] - 0s 13ms/step\n",
      "1/1 [==============================] - 0s 14ms/step\n",
      "1/1 [==============================] - 0s 14ms/step\n",
      "1/1 [==============================] - 0s 13ms/step\n",
      "1/1 [==============================] - 0s 14ms/step\n",
      "1/1 [==============================] - 0s 15ms/step\n",
      "1/1 [==============================] - 0s 13ms/step\n",
      "1/1 [==============================] - 0s 14ms/step\n",
      "1/1 [==============================] - 0s 14ms/step\n",
      "1/1 [==============================] - 0s 16ms/step\n",
      "1/1 [==============================] - 0s 14ms/step\n",
      "1/1 [==============================] - 0s 13ms/step\n",
      "1/1 [==============================] - 0s 12ms/step\n",
      "Average Inference Time: 0.030190 seconds\n"
     ]
    }
   ],
   "source": [
    "# efficacité du modèle\n",
    "model.save('model.keras', save_format='keras')\n",
    "\n",
    "model_size = os.path.getsize('model.keras') / (1024 ** 2)  # 以MB为单位\n",
    "print(f\"Model Size: {model_size:.2f} MB\")\n",
    "\n",
    "sample_input = np.random.rand(1, 28, 28, 1)\n",
    "\n",
    "num_iterations = 100\n",
    "start_time = time.time()\n",
    "for _ in range(num_iterations):\n",
    "    _ = model.predict(sample_input)\n",
    "end_time = time.time()\n",
    "\n",
    "average_inference_time = (end_time - start_time) / num_iterations\n",
    "print(f\"Average Inference Time: {average_inference_time:.6f} seconds\")"
   ]
  },
  {
   "cell_type": "code",
   "execution_count": null,
   "metadata": {},
   "outputs": [],
   "source": []
  },
  {
   "cell_type": "code",
   "execution_count": null,
   "metadata": {},
   "outputs": [],
   "source": []
  },
  {
   "cell_type": "code",
   "execution_count": null,
   "metadata": {},
   "outputs": [],
   "source": []
  }
 ],
 "metadata": {
  "kernelspec": {
   "display_name": "myenv",
   "language": "python",
   "name": "python3"
  },
  "language_info": {
   "codemirror_mode": {
    "name": "ipython",
    "version": 3
   },
   "file_extension": ".py",
   "mimetype": "text/x-python",
   "name": "python",
   "nbconvert_exporter": "python",
   "pygments_lexer": "ipython3",
   "version": "3.8.19"
  }
 },
 "nbformat": 4,
 "nbformat_minor": 2
}
